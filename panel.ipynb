{
 "cells": [
  {
   "cell_type": "code",
   "execution_count": 5,
   "id": "7a10f8e9",
   "metadata": {},
   "outputs": [
    {
     "data": {},
     "metadata": {},
     "output_type": "display_data"
    },
    {
     "data": {},
     "metadata": {},
     "output_type": "display_data"
    },
    {
     "data": {
      "application/vnd.holoviews_exec.v0+json": "",
      "text/html": [
       "<div id='7193'>\n",
       "\n",
       "\n",
       "\n",
       "\n",
       "\n",
       "  <div class=\"bk-root\" id=\"1665bf86-bd53-406a-953f-06ccb60d9aca\" data-root-id=\"7193\"></div>\n",
       "</div>\n",
       "<script type=\"application/javascript\">(function(root) {\n",
       "  function embed_document(root) {\n",
       "    var docs_json = {\"a4481e72-2188-4cfc-9161-b54ad6d7b33d\":{\"defs\":[{\"extends\":null,\"module\":null,\"name\":\"ReactiveHTML1\",\"overrides\":[],\"properties\":[]},{\"extends\":null,\"module\":null,\"name\":\"FlexBox1\",\"overrides\":[],\"properties\":[{\"default\":\"flex-start\",\"kind\":null,\"name\":\"align_content\"},{\"default\":\"flex-start\",\"kind\":null,\"name\":\"align_items\"},{\"default\":\"row\",\"kind\":null,\"name\":\"flex_direction\"},{\"default\":\"wrap\",\"kind\":null,\"name\":\"flex_wrap\"},{\"default\":\"flex-start\",\"kind\":null,\"name\":\"justify_content\"}]},{\"extends\":null,\"module\":null,\"name\":\"TemplateActions1\",\"overrides\":[],\"properties\":[{\"default\":0,\"kind\":null,\"name\":\"open_modal\"},{\"default\":0,\"kind\":null,\"name\":\"close_modal\"}]},{\"extends\":null,\"module\":null,\"name\":\"MaterialTemplateActions1\",\"overrides\":[],\"properties\":[{\"default\":0,\"kind\":null,\"name\":\"open_modal\"},{\"default\":0,\"kind\":null,\"name\":\"close_modal\"}]}],\"roots\":{\"references\":[{\"attributes\":{\"editor\":{\"id\":\"7500\"},\"field\":\"deaths\",\"formatter\":{\"id\":\"7499\"},\"title\":\"deaths\"},\"id\":\"7501\",\"type\":\"TableColumn\"},{\"attributes\":{},\"id\":\"7223\",\"type\":\"PanTool\"},{\"attributes\":{},\"id\":\"7510\",\"type\":\"StringEditor\"},{\"attributes\":{\"format\":\"0,0.0[00000]\"},\"id\":\"7479\",\"type\":\"NumberFormatter\"},{\"attributes\":{},\"id\":\"7530\",\"type\":\"NumberEditor\"},{\"attributes\":{},\"id\":\"7500\",\"type\":\"NumberEditor\"},{\"attributes\":{\"format\":\"0,0.0[00000]\"},\"id\":\"7519\",\"type\":\"NumberFormatter\"},{\"attributes\":{},\"id\":\"7473\",\"type\":\"Selection\"},{\"attributes\":{},\"id\":\"7480\",\"type\":\"NumberEditor\"},{\"attributes\":{\"format\":\"0,0.0[00000]\"},\"id\":\"7499\",\"type\":\"NumberFormatter\"},{\"attributes\":{},\"id\":\"7524\",\"type\":\"StringFormatter\"},{\"attributes\":{\"data\":{\"Cumulative_number_for_14_days_of_COVID_hyphen_minus_19_cases_per_100000\":{\"__ndarray__\":\"JMDh7HMItT+mT0BNDE20P3tr3HJg/7I/OcmgJG5fsT/Vj/I4sSyvPxmfNJp9mqw/Ju6IdXDRqT82Yl4ufxGoP76aTZGNUaY/e2vccmD/oj+yFyN1r1GiP6KjTbygEaQ/O4Eb76+apj+RSeOjBzapP7N2PrCho6w/ZyO+sIijrz/aYNmzhAizPw5KHKKf47w/C6bMk4wYwj+66/hxLNbEP65rrKufisg/WRmNfF7xyz8dAPWPUy7QP3vZl+gD9NA/t6zK18ii0z9iQP7rP9/WP88gcOokF9o/ohxY0KxT2z+EtErZt03hP1eZxoIEPeU/9XhKnE9c6T/IeSAuEI/sP3JOLr5PovA/1X/vmZnn9D/LBiUO0acCQAmCjQzujgNAQ/r1XAmpBEBLOHhPszIGQIua+R+qSgdAckPfH+e8CEC4UUsQAQEKQEjcpQUW3QtAEVNkpTAMDUDWhScNmMwNQM5Mk8YmOQ5AV1CDL22MDkAQ1CEeJk0OQHUjh+NUFg1ARtsI9iWcBUClPW9030sFQFIrCsOZ4gRAJptASzaqA0DW9l2u0ZQCQNHaAnyW6wBApT0Uu2ya/j9Z3pcrao36P6I3if9DY/Y/bftgEarx8j+6cWJ6iKfvP3tM5lBtLeo/\",\"dtype\":\"float64\",\"order\":\"little\",\"shape\":[60]},\"cases\":{\"__ndarray__\":\"AAAAAAAAVUAAAAAAAIBYQAAAAAAAQFxAAAAAAADAXUAAAAAAAIBXQAAAAAAAgFlAAAAAAACAU0AAAAAAAEBRQAAAAAAAQGFAAAAAAABAUEAAAAAAAABKQAAAAAAAwFhAAAAAAAAARkAAAAAAAAA3QAAAAAAAgEVAAAAAAAAAOUAAAAAAAAA2QAAAAAAAADNAAAAAAAAANkAAAAAAAAA4QAAAAAAAAD1AAAAAAAAANEAAAAAAAIBGQAAAAAAAAEdAAAAAAABAWUAAAAAAAEBlQAAAAAAAQF1AAAAAAADAXUAAAAAAAMBfQAAAAAAAoGlAAAAAAADwgUAAAAAAAMB6QAAAAAAAkHRAAAAAAABwe0AAAAAAAKB5QAAAAAAAGIBAAAAAAABAa0AAAAAAADiEQAAAAAAA0IlAAAAAAADYi0AAAAAAAKB4QAAAAAAAWJtAAAAAAACInUAAAAAAAAigQAAAAAAAXJ9AAAAAAADUo0AAAAAAADywQAAAAACAks1AAAAAAACwn0AAAAAAAHSjQAAAAAAAPKdAAAAAAABepEAAAAAAALSqQAAAAAAAsKhAAAAAAAAerUAAAAAAAECuQAAAAAAASqlAAAAAAAD4pUAAAAAAADykQAAAAAAAXqBA\",\"dtype\":\"float64\",\"order\":\"little\",\"shape\":[60]},\"continentExp\":[\"Asia\",\"Asia\",\"Asia\",\"Asia\",\"Asia\",\"Asia\",\"Asia\",\"Asia\",\"Asia\",\"Asia\",\"Asia\",\"Asia\",\"Asia\",\"Asia\",\"Asia\",\"Asia\",\"Asia\",\"Asia\",\"Asia\",\"Asia\",\"Asia\",\"Asia\",\"Asia\",\"Asia\",\"Asia\",\"Asia\",\"Asia\",\"Asia\",\"Asia\",\"Asia\",\"Asia\",\"Asia\",\"Asia\",\"Asia\",\"Asia\",\"Asia\",\"Asia\",\"Asia\",\"Asia\",\"Asia\",\"Asia\",\"Asia\",\"Asia\",\"Asia\",\"Asia\",\"Asia\",\"Asia\",\"Asia\",\"Asia\",\"Asia\",\"Asia\",\"Asia\",\"Asia\",\"Asia\",\"Asia\",\"Asia\",\"Asia\",\"Asia\",\"Asia\",\"Asia\"],\"countriesAndTerritories\":[\"China\",\"China\",\"China\",\"China\",\"China\",\"China\",\"China\",\"China\",\"China\",\"China\",\"China\",\"China\",\"China\",\"China\",\"China\",\"China\",\"China\",\"China\",\"China\",\"China\",\"China\",\"China\",\"China\",\"China\",\"China\",\"China\",\"China\",\"China\",\"China\",\"China\",\"China\",\"China\",\"China\",\"China\",\"China\",\"China\",\"China\",\"China\",\"China\",\"China\",\"China\",\"China\",\"China\",\"China\",\"China\",\"China\",\"China\",\"China\",\"China\",\"China\",\"China\",\"China\",\"China\",\"China\",\"China\",\"China\",\"China\",\"China\",\"China\",\"China\"],\"countryterritoryCode\":[\"CHN\",\"CHN\",\"CHN\",\"CHN\",\"CHN\",\"CHN\",\"CHN\",\"CHN\",\"CHN\",\"CHN\",\"CHN\",\"CHN\",\"CHN\",\"CHN\",\"CHN\",\"CHN\",\"CHN\",\"CHN\",\"CHN\",\"CHN\",\"CHN\",\"CHN\",\"CHN\",\"CHN\",\"CHN\",\"CHN\",\"CHN\",\"CHN\",\"CHN\",\"CHN\",\"CHN\",\"CHN\",\"CHN\",\"CHN\",\"CHN\",\"CHN\",\"CHN\",\"CHN\",\"CHN\",\"CHN\",\"CHN\",\"CHN\",\"CHN\",\"CHN\",\"CHN\",\"CHN\",\"CHN\",\"CHN\",\"CHN\",\"CHN\",\"CHN\",\"CHN\",\"CHN\",\"CHN\",\"CHN\",\"CHN\",\"CHN\",\"CHN\",\"CHN\",\"CHN\"],\"dateRep\":{\"__ndarray__\":\"AAAANN4Sd0IAAEDOixJ3QgAAgGg5EndCAADAAucRd0IAAACdlBF3QgAAQDdCEXdCAACA0e8Qd0IAAMBrnRB3QgAAAAZLEHdCAABAoPgPd0IAAIA6pg93QgAAwNRTD3dCAAAAbwEPd0IAAEAJrw53QgAAgKNcDndCAADAPQoOd0IAAADYtw13QgAAQHJlDXdCAACADBMNd0IAAMCmwAx3QgAAAEFuDHdCAABA2xsMd0IAAIB1yQt3QgAAwA93C3dCAAAAqiQLd0IAAEBE0gp3QgAAgN5/CndCAADAeC0Kd0IAAAAT2wl3QgAAQK2ICXdCAACARzYJd0IAAMDh4wh3QgAAAHyRCHdCAABAFj8Id0IAAICw7Ad3QgAAwEqaB3dCAAAA5UcHd0IAAEB/9QZ3QgAAgBmjBndCAADAs1AGd0IAAABO/gV3QgAAQOirBXdCAACAglkFd0IAAMAcBwV3QgAAALe0BHdCAABAUWIEd0IAAIDrDwR3QgAAwIW9A3dCAAAAIGsDd0IAAEC6GAN3QgAAgFTGAndCAADA7nMCd0IAAACJIQJ3QgAAQCPPAXdCAACAvXwBd0IAAMBXKgF3QgAAAPLXAHdCAABAjIUAd0IAAIAmMwB3QgAAwMDg/3ZC\",\"dtype\":\"float64\",\"order\":\"little\",\"shape\":[60]},\"day\":{\"__ndarray__\":\"AAAAAAAAP0AAAAAAAAA+QAAAAAAAAD1AAAAAAAAAPEAAAAAAAAA7QAAAAAAAADpAAAAAAAAAOUAAAAAAAAA4QAAAAAAAADdAAAAAAAAANkAAAAAAAAA1QAAAAAAAADRAAAAAAAAAM0AAAAAAAAAyQAAAAAAAADFAAAAAAAAAMEAAAAAAAAAuQAAAAAAAACxAAAAAAAAAKkAAAAAAAAAoQAAAAAAAACZAAAAAAAAAJEAAAAAAAAAiQAAAAAAAACBAAAAAAAAAHEAAAAAAAAAYQAAAAAAAABRAAAAAAAAAEEAAAAAAAAAIQAAAAAAAAABAAAAAAAAA8D8AAAAAAAA9QAAAAAAAADxAAAAAAAAAO0AAAAAAAAA6QAAAAAAAADlAAAAAAAAAOEAAAAAAAAA3QAAAAAAAADZAAAAAAAAANUAAAAAAAAA0QAAAAAAAADNAAAAAAAAAMkAAAAAAAAAxQAAAAAAAADBAAAAAAAAALkAAAAAAAAAsQAAAAAAAACpAAAAAAAAAKEAAAAAAAAAmQAAAAAAAACRAAAAAAAAAIkAAAAAAAAAgQAAAAAAAABxAAAAAAAAAGEAAAAAAAAAUQAAAAAAAABBAAAAAAAAACEAAAAAAAAAAQAAAAAAAAPA/\",\"dtype\":\"float64\",\"order\":\"little\",\"shape\":[60]},\"deaths\":{\"__ndarray__\":\"AAAAAAAACEAAAAAAAAAAQAAAAAAAABRAAAAAAAAACEAAAAAAAAAUQAAAAAAAABhAAAAAAAAAEEAAAAAAAAAcQAAAAAAAACJAAAAAAAAAGEAAAAAAAAAYQAAAAAAAABBAAAAAAAAAIEAAAAAAAAAwQAAAAAAAACJAAAAAAAAAKkAAAAAAAAAiQAAAAAAAAC5AAAAAAAAAHEAAAAAAAAAmQAAAAAAAADZAAAAAAAAAMUAAAAAAAAA3QAAAAAAAADtAAAAAAAAAPEAAAAAAAAA+QAAAAAAAAD9AAAAAAACAQkAAAAAAAABAQAAAAAAAAEVAAAAAAACAQUAAAAAAAIBHQAAAAAAAAEZAAAAAAAAAPUAAAAAAAABKQAAAAAAAgFFAAAAAAADAYkAAAAAAAIBYQAAAAAAAQFtAAAAAAACAXUAAAAAAAABcQAAAAAAAYGFAAAAAAACAWEAAAAAAAEBaQAAAAAAAwGFAAAAAAADgYUAAAAAAAAAqQAAAAAAAwG9AAAAAAABAWEAAAAAAAABbQAAAAAAAQFhAAAAAAABAVkAAAAAAAIBVQAAAAAAAQFJAAAAAAAAAUkAAAAAAAIBQQAAAAAAAQFBAAAAAAACATEAAAAAAAIBGQAAAAAAAAEdA\",\"dtype\":\"float64\",\"order\":\"little\",\"shape\":[60]},\"geoId\":[\"CN\",\"CN\",\"CN\",\"CN\",\"CN\",\"CN\",\"CN\",\"CN\",\"CN\",\"CN\",\"CN\",\"CN\",\"CN\",\"CN\",\"CN\",\"CN\",\"CN\",\"CN\",\"CN\",\"CN\",\"CN\",\"CN\",\"CN\",\"CN\",\"CN\",\"CN\",\"CN\",\"CN\",\"CN\",\"CN\",\"CN\",\"CN\",\"CN\",\"CN\",\"CN\",\"CN\",\"CN\",\"CN\",\"CN\",\"CN\",\"CN\",\"CN\",\"CN\",\"CN\",\"CN\",\"CN\",\"CN\",\"CN\",\"CN\",\"CN\",\"CN\",\"CN\",\"CN\",\"CN\",\"CN\",\"CN\",\"CN\",\"CN\",\"CN\",\"CN\"],\"month\":{\"__ndarray__\":\"AAAAAAAACEAAAAAAAAAIQAAAAAAAAAhAAAAAAAAACEAAAAAAAAAIQAAAAAAAAAhAAAAAAAAACEAAAAAAAAAIQAAAAAAAAAhAAAAAAAAACEAAAAAAAAAIQAAAAAAAAAhAAAAAAAAACEAAAAAAAAAIQAAAAAAAAAhAAAAAAAAACEAAAAAAAAAIQAAAAAAAAAhAAAAAAAAACEAAAAAAAAAIQAAAAAAAAAhAAAAAAAAACEAAAAAAAAAIQAAAAAAAAAhAAAAAAAAACEAAAAAAAAAIQAAAAAAAAAhAAAAAAAAACEAAAAAAAAAIQAAAAAAAAAhAAAAAAAAACEAAAAAAAAAAQAAAAAAAAABAAAAAAAAAAEAAAAAAAAAAQAAAAAAAAABAAAAAAAAAAEAAAAAAAAAAQAAAAAAAAABAAAAAAAAAAEAAAAAAAAAAQAAAAAAAAABAAAAAAAAAAEAAAAAAAAAAQAAAAAAAAABAAAAAAAAAAEAAAAAAAAAAQAAAAAAAAABAAAAAAAAAAEAAAAAAAAAAQAAAAAAAAABAAAAAAAAAAEAAAAAAAAAAQAAAAAAAAABAAAAAAAAAAEAAAAAAAAAAQAAAAAAAAABAAAAAAAAAAEAAAAAAAAAAQAAAAAAAAABA\",\"dtype\":\"float64\",\"order\":\"little\",\"shape\":[60]},\"popData2019\":{\"__ndarray__\":\"AAAAY3Nd1UEAAABjc13VQQAAAGNzXdVBAAAAY3Nd1UEAAABjc13VQQAAAGNzXdVBAAAAY3Nd1UEAAABjc13VQQAAAGNzXdVBAAAAY3Nd1UEAAABjc13VQQAAAGNzXdVBAAAAY3Nd1UEAAABjc13VQQAAAGNzXdVBAAAAY3Nd1UEAAABjc13VQQAAAGNzXdVBAAAAY3Nd1UEAAABjc13VQQAAAGNzXdVBAAAAY3Nd1UEAAABjc13VQQAAAGNzXdVBAAAAY3Nd1UEAAABjc13VQQAAAGNzXdVBAAAAY3Nd1UEAAABjc13VQQAAAGNzXdVBAAAAY3Nd1UEAAABjc13VQQAAAGNzXdVBAAAAY3Nd1UEAAABjc13VQQAAAGNzXdVBAAAAY3Nd1UEAAABjc13VQQAAAGNzXdVBAAAAY3Nd1UEAAABjc13VQQAAAGNzXdVBAAAAY3Nd1UEAAABjc13VQQAAAGNzXdVBAAAAY3Nd1UEAAABjc13VQQAAAGNzXdVBAAAAY3Nd1UEAAABjc13VQQAAAGNzXdVBAAAAY3Nd1UEAAABjc13VQQAAAGNzXdVBAAAAY3Nd1UEAAABjc13VQQAAAGNzXdVBAAAAY3Nd1UEAAABjc13VQQAAAGNzXdVB\",\"dtype\":\"float64\",\"order\":\"little\",\"shape\":[60]},\"year\":{\"__ndarray__\":\"AAAAAACQn0AAAAAAAJCfQAAAAAAAkJ9AAAAAAACQn0AAAAAAAJCfQAAAAAAAkJ9AAAAAAACQn0AAAAAAAJCfQAAAAAAAkJ9AAAAAAACQn0AAAAAAAJCfQAAAAAAAkJ9AAAAAAACQn0AAAAAAAJCfQAAAAAAAkJ9AAAAAAACQn0AAAAAAAJCfQAAAAAAAkJ9AAAAAAACQn0AAAAAAAJCfQAAAAAAAkJ9AAAAAAACQn0AAAAAAAJCfQAAAAAAAkJ9AAAAAAACQn0AAAAAAAJCfQAAAAAAAkJ9AAAAAAACQn0AAAAAAAJCfQAAAAAAAkJ9AAAAAAACQn0AAAAAAAJCfQAAAAAAAkJ9AAAAAAACQn0AAAAAAAJCfQAAAAAAAkJ9AAAAAAACQn0AAAAAAAJCfQAAAAAAAkJ9AAAAAAACQn0AAAAAAAJCfQAAAAAAAkJ9AAAAAAACQn0AAAAAAAJCfQAAAAAAAkJ9AAAAAAACQn0AAAAAAAJCfQAAAAAAAkJ9AAAAAAACQn0AAAAAAAJCfQAAAAAAAkJ9AAAAAAACQn0AAAAAAAJCfQAAAAAAAkJ9AAAAAAACQn0AAAAAAAJCfQAAAAAAAkJ9AAAAAAACQn0AAAAAAAJCfQAAAAAAAkJ9A\",\"dtype\":\"float64\",\"order\":\"little\",\"shape\":[60]}},\"selected\":{\"id\":\"7473\"},\"selection_policy\":{\"id\":\"7537\"}},\"id\":\"7472\",\"type\":\"ColumnDataSource\"},{\"attributes\":{\"format\":\"0,0.0[00000]\"},\"id\":\"7494\",\"type\":\"NumberFormatter\"},{\"attributes\":{\"children\":[{\"id\":\"7194\"},{\"id\":\"7200\"}],\"margin\":[0,0,0,0],\"name\":\"Row07441\"},\"id\":\"7193\",\"type\":\"Row\"},{\"attributes\":{},\"id\":\"7475\",\"type\":\"DateEditor\"},{\"attributes\":{\"bottom_units\":\"screen\",\"coordinates\":null,\"fill_alpha\":0.5,\"fill_color\":\"lightgrey\",\"group\":null,\"left_units\":\"screen\",\"level\":\"overlay\",\"line_alpha\":1.0,\"line_color\":\"black\",\"line_dash\":[4,4],\"line_width\":2,\"right_units\":\"screen\",\"syncable\":false,\"top_units\":\"screen\"},\"id\":\"7227\",\"type\":\"BoxAnnotation\"},{\"attributes\":{\"end\":16653.2,\"reset_end\":16653.2,\"reset_start\":-1493.2,\"start\":-1493.2,\"tags\":[[[\"cases\",\"cases\",null]]]},\"id\":\"7203\",\"type\":\"Range1d\"},{\"attributes\":{\"line_color\":\"#30a2da\",\"line_width\":2,\"x\":{\"field\":\"dateRep\"},\"y\":{\"field\":\"cases\"}},\"id\":\"7244\",\"type\":\"Line\"},{\"attributes\":{},\"id\":\"7236\",\"type\":\"DatetimeTickFormatter\"},{\"attributes\":{},\"id\":\"7485\",\"type\":\"NumberEditor\"},{\"attributes\":{},\"id\":\"7212\",\"type\":\"LinearScale\"},{\"attributes\":{},\"id\":\"7224\",\"type\":\"WheelZoomTool\"},{\"attributes\":{\"below\":[{\"id\":\"7214\"}],\"center\":[{\"id\":\"7217\"},{\"id\":\"7221\"},{\"id\":\"7271\"}],\"height\":300,\"left\":[{\"id\":\"7218\"}],\"margin\":[5,5,5,5],\"min_border_bottom\":10,\"min_border_left\":10,\"min_border_right\":10,\"min_border_top\":10,\"renderers\":[{\"id\":\"7247\"}],\"sizing_mode\":\"fixed\",\"title\":{\"id\":\"7206\"},\"toolbar\":{\"id\":\"7228\"},\"width\":700,\"x_range\":{\"id\":\"7202\"},\"x_scale\":{\"id\":\"7210\"},\"y_range\":{\"id\":\"7203\"},\"y_scale\":{\"id\":\"7212\"}},\"id\":\"7205\",\"subtype\":\"Figure\",\"type\":\"Plot\"},{\"attributes\":{},\"id\":\"7515\",\"type\":\"StringEditor\"},{\"attributes\":{\"editor\":{\"id\":\"7485\"},\"field\":\"month\",\"formatter\":{\"id\":\"7484\"},\"title\":\"month\"},\"id\":\"7486\",\"type\":\"TableColumn\"},{\"attributes\":{},\"id\":\"7537\",\"type\":\"UnionRenderers\"},{\"attributes\":{},\"id\":\"7509\",\"type\":\"StringFormatter\"},{\"attributes\":{},\"id\":\"7226\",\"type\":\"ResetTool\"},{\"attributes\":{\"editor\":{\"id\":\"7475\"},\"field\":\"dateRep\",\"formatter\":{\"id\":\"7474\"},\"title\":\"dateRep\"},\"id\":\"7476\",\"type\":\"TableColumn\"},{\"attributes\":{\"data\":{\"cases\":{\"__ndarray__\":\"AAAAAABeoEAAAAAAADykQAAAAAAA+KVAAAAAAABKqUAAAAAAAECuQAAAAAAAHq1AAAAAAACwqEAAAAAAALSqQAAAAAAAXqRAAAAAAAA8p0AAAAAAAHSjQAAAAAAAsJ9AAAAAAICSzUAAAAAAADywQAAAAAAA1KNAAAAAAABcn0AAAAAAAAigQAAAAAAAiJ1AAAAAAABYm0AAAAAAAKB4QAAAAAAA2ItAAAAAAADQiUAAAAAAADiEQAAAAAAAQGtAAAAAAAAYgEAAAAAAAKB5QAAAAAAAcHtAAAAAAACQdEAAAAAAAMB6QAAAAAAA8IFAAAAAAACgaUAAAAAAAMBfQAAAAAAAwF1AAAAAAABAXUAAAAAAAEBlQAAAAAAAQFlAAAAAAAAAR0AAAAAAAIBGQAAAAAAAADRAAAAAAAAAPUAAAAAAAAA4QAAAAAAAADZAAAAAAAAAM0AAAAAAAAA2QAAAAAAAADlAAAAAAACARUAAAAAAAAA3QAAAAAAAAEZAAAAAAADAWEAAAAAAAABKQAAAAAAAQFBAAAAAAABAYUAAAAAAAEBRQAAAAAAAgFNAAAAAAACAWUAAAAAAAIBXQAAAAAAAwF1AAAAAAABAXEAAAAAAAIBYQAAAAAAAAFVA\",\"dtype\":\"float64\",\"order\":\"little\",\"shape\":[60]},\"countriesAndTerritories\":[\"China\",\"China\",\"China\",\"China\",\"China\",\"China\",\"China\",\"China\",\"China\",\"China\",\"China\",\"China\",\"China\",\"China\",\"China\",\"China\",\"China\",\"China\",\"China\",\"China\",\"China\",\"China\",\"China\",\"China\",\"China\",\"China\",\"China\",\"China\",\"China\",\"China\",\"China\",\"China\",\"China\",\"China\",\"China\",\"China\",\"China\",\"China\",\"China\",\"China\",\"China\",\"China\",\"China\",\"China\",\"China\",\"China\",\"China\",\"China\",\"China\",\"China\",\"China\",\"China\",\"China\",\"China\",\"China\",\"China\",\"China\",\"China\",\"China\",\"China\"],\"dateRep\":{\"__ndarray__\":\"AADAwOD/dkIAAIAmMwB3QgAAQIyFAHdCAAAA8tcAd0IAAMBXKgF3QgAAgL18AXdCAABAI88Bd0IAAACJIQJ3QgAAwO5zAndCAACAVMYCd0IAAEC6GAN3QgAAACBrA3dCAADAhb0Dd0IAAIDrDwR3QgAAQFFiBHdCAAAAt7QEd0IAAMAcBwV3QgAAgIJZBXdCAABA6KsFd0IAAABO/gV3QgAAwLNQBndCAACAGaMGd0IAAEB/9QZ3QgAAAOVHB3dCAADASpoHd0IAAICw7Ad3QgAAQBY/CHdCAAAAfJEId0IAAMDh4wh3QgAAgEc2CXdCAABArYgJd0IAAAAT2wl3QgAAwHgtCndCAACA3n8Kd0IAAEBE0gp3QgAAAKokC3dCAADAD3cLd0IAAIB1yQt3QgAAQNsbDHdCAAAAQW4Md0IAAMCmwAx3QgAAgAwTDXdCAABAcmUNd0IAAADYtw13QgAAwD0KDndCAACAo1wOd0IAAEAJrw53QgAAAG8BD3dCAADA1FMPd0IAAIA6pg93QgAAQKD4D3dCAAAABksQd0IAAMBrnRB3QgAAgNHvEHdCAABAN0IRd0IAAACdlBF3QgAAwALnEXdCAACAaDkSd0IAAEDOixJ3QgAAADTeEndC\",\"dtype\":\"float64\",\"order\":\"little\",\"shape\":[60]}},\"selected\":{\"id\":\"7242\"},\"selection_policy\":{\"id\":\"7256\"}},\"id\":\"7241\",\"type\":\"ColumnDataSource\"},{\"attributes\":{},\"id\":\"7240\",\"type\":\"AllLabels\"},{\"attributes\":{\"editor\":{\"id\":\"7530\"},\"field\":\"Cumulative_number_for_14_days_of_COVID_hyphen_minus_19_cases_per_100000\",\"formatter\":{\"id\":\"7529\"},\"title\":\"Cumulative_number_for_14_days_of_COVID-19_cases_per_100000\"},\"id\":\"7531\",\"type\":\"TableColumn\"},{\"attributes\":{},\"id\":\"7239\",\"type\":\"BasicTickFormatter\"},{\"attributes\":{\"months\":[0,2,4,6,8,10]},\"id\":\"7267\",\"type\":\"MonthsTicker\"},{\"attributes\":{\"children\":[{\"id\":\"7195\"},{\"id\":\"7196\"},{\"id\":\"7197\"},{\"id\":\"7198\"},{\"id\":\"7199\"}],\"margin\":[5,5,5,5],\"min_width\":300,\"name\":\"Setting\",\"width\":300},\"id\":\"7194\",\"type\":\"Column\"},{\"attributes\":{\"months\":[0,6]},\"id\":\"7269\",\"type\":\"MonthsTicker\"},{\"attributes\":{\"editor\":{\"id\":\"7495\"},\"field\":\"cases\",\"formatter\":{\"id\":\"7494\"},\"title\":\"cases\"},\"id\":\"7496\",\"type\":\"TableColumn\"},{\"attributes\":{},\"id\":\"7237\",\"type\":\"AllLabels\"},{\"attributes\":{},\"id\":\"7514\",\"type\":\"StringFormatter\"},{\"attributes\":{\"axis\":{\"id\":\"7218\"},\"coordinates\":null,\"dimension\":1,\"grid_line_color\":null,\"group\":null,\"ticker\":null},\"id\":\"7221\",\"type\":\"Grid\"},{\"attributes\":{\"format\":\"0,0.0[00000]\"},\"id\":\"7529\",\"type\":\"NumberFormatter\"},{\"attributes\":{},\"id\":\"7222\",\"type\":\"SaveTool\"},{\"attributes\":{\"editor\":{\"id\":\"7480\"},\"field\":\"day\",\"formatter\":{\"id\":\"7479\"},\"title\":\"day\"},\"id\":\"7481\",\"type\":\"TableColumn\"},{\"attributes\":{\"client_comm_id\":\"548d34fc912e4122a566165a91ecfa8f\",\"comm_id\":\"8a04d0364a4d4d188e8092288aa2e0b4\",\"plot_id\":\"7193\"},\"id\":\"7613\",\"type\":\"panel.models.comm_manager.CommManager\"},{\"attributes\":{\"end\":1585612800000.0,\"reset_end\":1585612800000.0,\"reset_start\":1580515200000.0,\"start\":1580515200000.0,\"tags\":[[[\"dateRep\",\"dateRep\",null]]]},\"id\":\"7202\",\"type\":\"Range1d\"},{\"attributes\":{\"editor\":{\"id\":\"7515\"},\"field\":\"countryterritoryCode\",\"formatter\":{\"id\":\"7514\"},\"title\":\"countryterritoryCode\"},\"id\":\"7516\",\"type\":\"TableColumn\"},{\"attributes\":{\"overlay\":{\"id\":\"7227\"}},\"id\":\"7225\",\"type\":\"BoxZoomTool\"},{\"attributes\":{\"axis\":{\"id\":\"7214\"},\"coordinates\":null,\"grid_line_color\":null,\"group\":null,\"ticker\":null},\"id\":\"7217\",\"type\":\"Grid\"},{\"attributes\":{},\"id\":\"7505\",\"type\":\"StringEditor\"},{\"attributes\":{\"format\":\"0,0.0[00000]\"},\"id\":\"7484\",\"type\":\"NumberFormatter\"},{\"attributes\":{},\"id\":\"7242\",\"type\":\"Selection\"},{\"attributes\":{\"editor\":{\"id\":\"7505\"},\"field\":\"countriesAndTerritories\",\"formatter\":{\"id\":\"7504\"},\"title\":\"countriesAndTerritories\"},\"id\":\"7506\",\"type\":\"TableColumn\"},{\"attributes\":{\"months\":[0,1,2,3,4,5,6,7,8,9,10,11]},\"id\":\"7266\",\"type\":\"MonthsTicker\"},{\"attributes\":{\"axis_label\":\"cases\",\"coordinates\":null,\"formatter\":{\"id\":\"7239\"},\"group\":null,\"major_label_policy\":{\"id\":\"7240\"},\"ticker\":{\"id\":\"7219\"}},\"id\":\"7218\",\"type\":\"LinearAxis\"},{\"attributes\":{\"coordinates\":null,\"group\":null,\"text_color\":\"black\",\"text_font_size\":\"12pt\"},\"id\":\"7206\",\"type\":\"Title\"},{\"attributes\":{\"children\":[{\"id\":\"7205\"},{\"id\":\"7534\"}],\"margin\":[0,0,0,0],\"name\":\"Column07439\"},\"id\":\"7201\",\"type\":\"Column\"},{\"attributes\":{\"editor\":{\"id\":\"7510\"},\"field\":\"geoId\",\"formatter\":{\"id\":\"7509\"},\"title\":\"geoId\"},\"id\":\"7511\",\"type\":\"TableColumn\"},{\"attributes\":{\"editor\":{\"id\":\"7490\"},\"field\":\"year\",\"formatter\":{\"id\":\"7489\"},\"title\":\"year\"},\"id\":\"7491\",\"type\":\"TableColumn\"},{\"attributes\":{\"mantissas\":[1,2,5],\"max_interval\":500.0,\"num_minor_ticks\":0},\"id\":\"7259\",\"type\":\"AdaptiveTicker\"},{\"attributes\":{\"coordinates\":null,\"group\":null,\"items\":[]},\"id\":\"7271\",\"type\":\"Legend\"},{\"attributes\":{\"axis_label\":\"Date\",\"coordinates\":null,\"formatter\":{\"id\":\"7236\"},\"group\":null,\"major_label_orientation\":1.5707963267948966,\"major_label_policy\":{\"id\":\"7237\"},\"ticker\":{\"id\":\"7215\"}},\"id\":\"7214\",\"type\":\"DatetimeAxis\"},{\"attributes\":{\"line_alpha\":0.1,\"line_color\":\"#30a2da\",\"line_width\":2,\"x\":{\"field\":\"dateRep\"},\"y\":{\"field\":\"cases\"}},\"id\":\"7245\",\"type\":\"Line\"},{\"attributes\":{\"children\":[{\"id\":\"7201\"}],\"margin\":[0,0,0,0],\"name\":\"Row07257\"},\"id\":\"7200\",\"type\":\"Row\"},{\"attributes\":{\"line_alpha\":0.2,\"line_color\":\"#30a2da\",\"line_width\":2,\"x\":{\"field\":\"dateRep\"},\"y\":{\"field\":\"cases\"}},\"id\":\"7246\",\"type\":\"Line\"},{\"attributes\":{\"num_minor_ticks\":5,\"tickers\":[{\"id\":\"7259\"},{\"id\":\"7260\"},{\"id\":\"7261\"},{\"id\":\"7262\"},{\"id\":\"7263\"},{\"id\":\"7264\"},{\"id\":\"7265\"},{\"id\":\"7266\"},{\"id\":\"7267\"},{\"id\":\"7268\"},{\"id\":\"7269\"},{\"id\":\"7270\"}]},\"id\":\"7215\",\"type\":\"DatetimeTicker\"},{\"attributes\":{},\"id\":\"7520\",\"type\":\"NumberEditor\"},{\"attributes\":{},\"id\":\"7210\",\"type\":\"LinearScale\"},{\"attributes\":{\"source\":{\"id\":\"7241\"}},\"id\":\"7248\",\"type\":\"CDSView\"},{\"attributes\":{\"format\":\"0,0.0[00000]\"},\"id\":\"7489\",\"type\":\"NumberFormatter\"},{\"attributes\":{},\"id\":\"7525\",\"type\":\"StringEditor\"},{\"attributes\":{\"days\":[1,8,15,22]},\"id\":\"7264\",\"type\":\"DaysTicker\"},{\"attributes\":{\"columns\":[{\"id\":\"7476\"},{\"id\":\"7481\"},{\"id\":\"7486\"},{\"id\":\"7491\"},{\"id\":\"7496\"},{\"id\":\"7501\"},{\"id\":\"7506\"},{\"id\":\"7511\"},{\"id\":\"7516\"},{\"id\":\"7521\"},{\"id\":\"7526\"},{\"id\":\"7531\"}],\"height\":300,\"reorderable\":false,\"source\":{\"id\":\"7472\"},\"view\":{\"id\":\"7536\"},\"width\":700},\"id\":\"7534\",\"type\":\"DataTable\"},{\"attributes\":{\"editor\":{\"id\":\"7520\"},\"field\":\"popData2019\",\"formatter\":{\"id\":\"7519\"},\"title\":\"popData2019\"},\"id\":\"7521\",\"type\":\"TableColumn\"},{\"attributes\":{\"tools\":[{\"id\":\"7204\"},{\"id\":\"7222\"},{\"id\":\"7223\"},{\"id\":\"7224\"},{\"id\":\"7225\"},{\"id\":\"7226\"}]},\"id\":\"7228\",\"type\":\"Toolbar\"},{\"attributes\":{\"margin\":[5,10,5,10],\"options\":[\"Asia\",\"Europe\",\"Africa\",\"America\",\"Oceania\",\"Other\"],\"title\":\"Continents\",\"value\":[\"Asia\"]},\"id\":\"7196\",\"type\":\"MultiSelect\"},{\"attributes\":{\"reload\":false},\"id\":\"7686\",\"type\":\"panel.models.location.Location\"},{\"attributes\":{\"margin\":[5,10,5,10],\"options\":[\"Afghanistan\",\"Bahrain\",\"Bangladesh\",\"Bhutan\",\"Brunei_Darussalam\",\"Cambodia\",\"China\",\"India\",\"Indonesia\",\"Iran\",\"Iraq\",\"Israel\",\"Japan\",\"Jordan\",\"Kazakhstan\",\"Kuwait\",\"Kyrgyzstan\",\"Laos\",\"Lebanon\",\"Malaysia\",\"Maldives\",\"Mongolia\",\"Myanmar\",\"Nepal\",\"Oman\",\"Pakistan\",\"Palestine\",\"Philippines\",\"Qatar\",\"Saudi_Arabia\",\"Singapore\",\"South_Korea\",\"Sri_Lanka\",\"Syria\",\"Taiwan\",\"Tajikistan\",\"Thailand\",\"Timor_Leste\",\"United_Arab_Emirates\",\"Uzbekistan\",\"Vietnam\",\"Yemen\"],\"title\":\"Countries\",\"value\":[\"China\"]},\"id\":\"7197\",\"type\":\"MultiSelect\"},{\"attributes\":{\"days\":[1,15]},\"id\":\"7265\",\"type\":\"DaysTicker\"},{\"attributes\":{\"days\":[1,2,3,4,5,6,7,8,9,10,11,12,13,14,15,16,17,18,19,20,21,22,23,24,25,26,27,28,29,30,31]},\"id\":\"7262\",\"type\":\"DaysTicker\"},{\"attributes\":{},\"id\":\"7270\",\"type\":\"YearsTicker\"},{\"attributes\":{},\"id\":\"7504\",\"type\":\"StringFormatter\"},{\"attributes\":{\"coordinates\":null,\"data_source\":{\"id\":\"7241\"},\"glyph\":{\"id\":\"7244\"},\"group\":null,\"hover_glyph\":null,\"muted_glyph\":{\"id\":\"7246\"},\"nonselection_glyph\":{\"id\":\"7245\"},\"selection_glyph\":{\"id\":\"7273\"},\"view\":{\"id\":\"7248\"}},\"id\":\"7247\",\"type\":\"GlyphRenderer\"},{\"attributes\":{},\"id\":\"7219\",\"type\":\"BasicTicker\"},{\"attributes\":{\"days\":[1,4,7,10,13,16,19,22,25,28]},\"id\":\"7263\",\"type\":\"DaysTicker\"},{\"attributes\":{\"callback\":null,\"formatters\":{\"@{dateRep}\":\"datetime\"},\"renderers\":[{\"id\":\"7247\"}],\"tags\":[\"hv_created\"],\"tooltips\":[[\"countriesAndTerritories\",\"@{countriesAndTerritories}\"],[\"dateRep\",\"@{dateRep}{%F %T}\"],[\"cases\",\"@{cases}\"]]},\"id\":\"7204\",\"type\":\"HoverTool\"},{\"attributes\":{},\"id\":\"7490\",\"type\":\"NumberEditor\"},{\"attributes\":{},\"id\":\"7256\",\"type\":\"UnionRenderers\"},{\"attributes\":{\"editor\":{\"id\":\"7525\"},\"field\":\"continentExp\",\"formatter\":{\"id\":\"7524\"},\"title\":\"continentExp\"},\"id\":\"7526\",\"type\":\"TableColumn\"},{\"attributes\":{\"margin\":[5,10,5,10],\"name\":\"\",\"text\":\"<b>Setting</b>\"},\"id\":\"7195\",\"type\":\"Div\"},{\"attributes\":{\"source\":{\"id\":\"7472\"}},\"id\":\"7536\",\"type\":\"CDSView\"},{\"attributes\":{\"format\":\"%Y-%m-%d %H:%M:%S\"},\"id\":\"7474\",\"type\":\"DateFormatter\"},{\"attributes\":{\"line_color\":\"#30a2da\",\"line_width\":2,\"x\":{\"field\":\"dateRep\"},\"y\":{\"field\":\"cases\"}},\"id\":\"7273\",\"type\":\"Line\"},{\"attributes\":{\"months\":[0,4,8]},\"id\":\"7268\",\"type\":\"MonthsTicker\"},{\"attributes\":{\"end\":12,\"margin\":[5,10,5,10],\"start\":1,\"title\":\"Months\",\"value\":[2,3]},\"id\":\"7198\",\"type\":\"RangeSlider\"},{\"attributes\":{\"active\":0,\"labels\":[\"cases\",\"deaths\"],\"margin\":[5,10,5,10]},\"id\":\"7199\",\"type\":\"RadioButtonGroup\"},{\"attributes\":{},\"id\":\"7495\",\"type\":\"NumberEditor\"},{\"attributes\":{\"base\":24,\"mantissas\":[1,2,4,6,8,12],\"max_interval\":43200000.0,\"min_interval\":3600000.0,\"num_minor_ticks\":0},\"id\":\"7261\",\"type\":\"AdaptiveTicker\"},{\"attributes\":{\"base\":60,\"mantissas\":[1,2,5,10,15,20,30],\"max_interval\":1800000.0,\"min_interval\":1000.0,\"num_minor_ticks\":0},\"id\":\"7260\",\"type\":\"AdaptiveTicker\"}],\"root_ids\":[\"7193\",\"7613\",\"7686\"]},\"title\":\"Bokeh Application\",\"version\":\"2.4.1\"}};\n",
       "    var render_items = [{\"docid\":\"a4481e72-2188-4cfc-9161-b54ad6d7b33d\",\"root_ids\":[\"7193\"],\"roots\":{\"7193\":\"1665bf86-bd53-406a-953f-06ccb60d9aca\"}}];\n",
       "    root.Bokeh.embed.embed_items_notebook(docs_json, render_items);\n",
       "  }\n",
       "  if (root.Bokeh !== undefined && root.Bokeh.Panel !== undefined) {\n",
       "    embed_document(root);\n",
       "  } else {\n",
       "    var attempts = 0;\n",
       "    var timer = setInterval(function(root) {\n",
       "      if (root.Bokeh !== undefined && root.Bokeh.Panel !== undefined) {\n",
       "        clearInterval(timer);\n",
       "        embed_document(root);\n",
       "      } else if (document.readyState == \"complete\") {\n",
       "        attempts++;\n",
       "        if (attempts > 200) {\n",
       "          clearInterval(timer);\n",
       "          console.log(\"Bokeh: ERROR: Unable to run BokehJS code because BokehJS library is missing\");\n",
       "        }\n",
       "      }\n",
       "    }, 25, root)\n",
       "  }\n",
       "})(window);</script>"
      ],
      "text/plain": [
       "Row\n",
       "    [0] Param(MyPanel, name='Setting', widgets={'dataType': <...})\n",
       "    [1] ParamMethod(method)"
      ]
     },
     "execution_count": 5,
     "metadata": {
      "application/vnd.holoviews_exec.v0+json": {
       "id": "7193"
      }
     },
     "output_type": "execute_result"
    }
   ],
   "source": [
    "import numpy as np\n",
    "import pandas as pd\n",
    "import panel as pn\n",
    "import holoviews as hv\n",
    "import hvplot.pandas\n",
    "import param\n",
    "import random\n",
    "from datetime import datetime\n",
    "pn.extension()\n",
    "\n",
    "###   step1.数据处理\n",
    "data = pd.read_csv('world_wide_COVID_data_daily_data.csv')\n",
    "data.loc[:, 'dateRep'] = data['dateRep'].apply(lambda x: datetime.strptime(x,\"%d/%m/%Y\"))   ### 转换时间格式\n",
    "countriesData = {}   ### 统计洲对应的国家数据\n",
    "for row in data.itertuples():\n",
    "    if row.continentExp not in countriesData:\n",
    "        countriesData[row.continentExp] = [row.countriesAndTerritories]\n",
    "    elif row.countriesAndTerritories not in countriesData[row.continentExp]:\n",
    "        countriesData[row.continentExp].append(row.countriesAndTerritories)\n",
    "        \n",
    "###   step2.定义面板这个类     \n",
    "class MyPanel(param.Parameterized):\n",
    "    continents = param.ListSelector(default=['Asia'], objects=countriesData.keys())   ### 大洲选择\n",
    "    countries = param.ListSelector(default=['China'], objects=countriesData['Asia'])   ### 国家选择\n",
    "    months = param.Range(default=(2, 3), bounds=(1, 12))   ### 月份\n",
    "    dataType  = param.Selector(default=\"cases\", objects=[\"cases\", \"deaths\"])   ### 展示数据类型\n",
    "    \n",
    "    _countries = countriesData   ### 国家数据\n",
    "    \n",
    "    @param.depends('continents', watch=True)   ### 大洲变化时更新国家\n",
    "    def _update_countries(self):\n",
    "        countries = []\n",
    "        for i in self.continents:\n",
    "            countries= countries + self._countries[i]\n",
    "        self.param['countries'].objects = countries\n",
    "        self.countries = [countries[0]]\n",
    "\n",
    "    @param.depends('countries','months','dataType')    ### 国家，月份，数据类型变化时更新图和表格\n",
    "    def view(self):\n",
    "        start = self.months[0]\n",
    "        end = self.months[1]\n",
    "        graph_data = data[(data['continentExp'].isin(self.continents))&(data['countriesAndTerritories'].isin(self.countries))&(data['month']<=end)&(data['month']>=start)]   ###   根据参数筛选数据\n",
    "        timeline = graph_data.hvplot(x='dateRep', y=self.dataType, xlabel='Date', rot=90, sort_date=True, by='countriesAndTerritories')   ### 数据图\n",
    "        table = graph_data.hvplot.table(sortable=True)   ### 表格\n",
    "        return pn.Column(timeline,table)\n",
    "\n",
    "###   step3.新建一个面板把内容组合在一起\n",
    "viewer = MyPanel(name='Setting')\n",
    "pn.Row(pn.Param(viewer.param, widgets={'dataType': pn.widgets.RadioButtonGroup}), viewer.view)"
   ]
  },
  {
   "cell_type": "code",
   "execution_count": null,
   "id": "1ebcfcbd",
   "metadata": {},
   "outputs": [],
   "source": []
  },
  {
   "cell_type": "code",
   "execution_count": null,
   "id": "a6938245",
   "metadata": {},
   "outputs": [],
   "source": []
  }
 ],
 "metadata": {
  "kernelspec": {
   "display_name": "Python 3 (ipykernel)",
   "language": "python",
   "name": "python3"
  },
  "language_info": {
   "codemirror_mode": {
    "name": "ipython",
    "version": 3
   },
   "file_extension": ".py",
   "mimetype": "text/x-python",
   "name": "python",
   "nbconvert_exporter": "python",
   "pygments_lexer": "ipython3",
   "version": "3.9.7"
  }
 },
 "nbformat": 4,
 "nbformat_minor": 5
}
